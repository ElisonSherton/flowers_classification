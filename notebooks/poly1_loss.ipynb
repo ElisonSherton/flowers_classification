{
 "cells": [
  {
   "cell_type": "markdown",
   "id": "dc52e90f",
   "metadata": {},
   "source": [
    "# Vanilla Cross Entropy Training"
   ]
  },
  {
   "cell_type": "code",
   "execution_count": 1,
   "id": "e5ac3c01",
   "metadata": {},
   "outputs": [
    {
     "name": "stdout",
     "output_type": "stream",
     "text": [
      "\u001b[33mWARNING: Running pip as the 'root' user can result in broken permissions and conflicting behaviour with the system package manager. It is recommended to use a virtual environment instead: https://pip.pypa.io/warnings/venv\u001b[0m\n"
     ]
    }
   ],
   "source": [
    "!pip install -q timm seaborn wandb"
   ]
  },
  {
   "cell_type": "code",
   "execution_count": 2,
   "id": "ab223127",
   "metadata": {},
   "outputs": [],
   "source": [
    "%reload_ext autoreload\n",
    "%autoreload 2"
   ]
  },
  {
   "cell_type": "code",
   "execution_count": 3,
   "id": "6eb23019",
   "metadata": {},
   "outputs": [],
   "source": [
    "# Get all the necessary imports\n",
    "from fastai.vision.all import *\n",
    "from fastai.callback.wandb import *\n",
    "import wandb, datetime\n",
    "plt.style.use(\"fivethirtyeight\")\n",
    "import seaborn as sns"
   ]
  },
  {
   "cell_type": "code",
   "execution_count": 4,
   "id": "932ff428",
   "metadata": {},
   "outputs": [
    {
     "name": "stderr",
     "output_type": "stream",
     "text": [
      "\u001b[34m\u001b[1mwandb\u001b[0m: Currently logged in as: \u001b[33mvinayak_nayak\u001b[0m. Use \u001b[1m`wandb login --relogin`\u001b[0m to force relogin\n"
     ]
    },
    {
     "data": {
      "text/html": [
       "Tracking run with wandb version 0.12.16"
      ],
      "text/plain": [
       "<IPython.core.display.HTML object>"
      ]
     },
     "metadata": {},
     "output_type": "display_data"
    },
    {
     "data": {
      "text/html": [
       "Run data is saved locally in <code>/home/flowers_classification/notebooks/wandb/run-20220505_153549-38158tx1</code>"
      ],
      "text/plain": [
       "<IPython.core.display.HTML object>"
      ]
     },
     "metadata": {},
     "output_type": "display_data"
    },
    {
     "data": {
      "text/html": [
       "Syncing run <strong><a href=\"https://wandb.ai/vinayak_nayak/oxford_flowers_classification/runs/38158tx1\" target=\"_blank\">holographic-lightsaber-3</a></strong> to <a href=\"https://wandb.ai/vinayak_nayak/oxford_flowers_classification\" target=\"_blank\">Weights & Biases</a> (<a href=\"https://wandb.me/run\" target=\"_blank\">docs</a>)<br/>"
      ],
      "text/plain": [
       "<IPython.core.display.HTML object>"
      ]
     },
     "metadata": {},
     "output_type": "display_data"
    }
   ],
   "source": [
    "# Start a new project in wandb\n",
    "wandb.init(project = \"oxford_flowers_classification\")\n",
    "wandb.run.name = \"PolyLoss\""
   ]
  },
  {
   "cell_type": "markdown",
   "id": "f73838ff",
   "metadata": {},
   "source": [
    "# Define Dataloading portion"
   ]
  },
  {
   "cell_type": "code",
   "execution_count": 5,
   "id": "35ee48e9",
   "metadata": {},
   "outputs": [],
   "source": [
    "# Read the data file containing input output pairs and the datapoint class\n",
    "df = pd.read_csv(\"../data/data.csv\")"
   ]
  },
  {
   "cell_type": "code",
   "execution_count": 6,
   "id": "3ceecacc",
   "metadata": {},
   "outputs": [],
   "source": [
    "# Define getter for input ImageBlock\n",
    "def get_x(row): \n",
    "    return f'../data/oxford-102-flowers/{row[\"ImgPath\"]}'\n",
    "\n",
    "# Define getter for output CategoryBlock\n",
    "def get_y(row): \n",
    "    return row[\"ImgLabel\"] \n",
    "\n",
    "# Define trian validation splitter\n",
    "def splitter(df):\n",
    "    train_idxs = df[df.SetType == \"train\"].index.tolist()\n",
    "    valid_idxs = df[df.SetType == \"valid\"].index.tolist()\n",
    "    return (train_idxs, valid_idxs)\n",
    "\n",
    "# Define CPU based item transforms here\n",
    "def get_item_tfms(size):\n",
    "    return Resize(size, pad_mode = PadMode.Zeros, method = ResizeMethod.Pad)()\n",
    "\n",
    "# Define GPU based augmentation transforms here\n",
    "def get_aug_tfms():\n",
    "    proba = 0.3\n",
    "    h = Hue(max_hue = 0.3, p = proba, draw=None, batch=False)\n",
    "    s = Saturation(max_lighting = 0.3, p = proba, draw=None, batch=False)\n",
    "    ag_tfms = aug_transforms(mult = 1.00, do_flip = True, flip_vert = False, max_rotate = 5, \n",
    "                            min_zoom = 0.9, max_zoom = 1.1, max_lighting = 0.5, max_warp = \n",
    "                            0.05, p_affine = proba, p_lighting = proba, xtra_tfms = [h, s], \n",
    "                            size = 224, mode = 'bilinear', pad_mode = \"zeros\", align_corners = True, \n",
    "                            batch = False, min_scale = 0.75)\n",
    "    return ag_tfms\n",
    "\n",
    "# Define a function to retrieve the dataloader\n",
    "# Use the subordinate functions defined above for the same\n",
    "def get_dls(df):\n",
    "    BATCH_SIZE = 16\n",
    "    datablock = DataBlock(blocks = (ImageBlock, CategoryBlock),\n",
    "                          get_x = get_x,\n",
    "                          get_y = get_y,\n",
    "                          splitter = splitter,\n",
    "                          item_tfms = Resize(size = 460),\n",
    "                          batch_tfms = get_aug_tfms())\n",
    "\n",
    "    dls = datablock.dataloaders(source=df, bs = BATCH_SIZE, drop_last = True)\n",
    "    return dls"
   ]
  },
  {
   "cell_type": "markdown",
   "id": "17c46ea2",
   "metadata": {},
   "source": [
    "# Standard Training"
   ]
  },
  {
   "cell_type": "code",
   "execution_count": 7,
   "id": "33cdc3c9",
   "metadata": {},
   "outputs": [],
   "source": [
    "# Define evaluation metrics for test set and add them to the learner so\n",
    "# We can check the progress during every epoch\n",
    "\n",
    "from functools import lru_cache\n",
    "\n",
    "# Define a function to get true values and predictions for test set\n",
    "@lru_cache\n",
    "def get_test_fvs(x, y):\n",
    "    # Get the test dataset\n",
    "    test_df = df[df.SetType == \"test\"].reset_index(drop = True)\n",
    "    test_dls = learn.dls.test_dl(test_df.ImgPath.apply(lambda x: f\"../data/oxford-102-flowers/{x}\").tolist(), drop_last = False)\n",
    "    true_values = TensorBase([list(dls.vocab).index(x) for x in test_df.ImgLabel.tolist()])\n",
    "    \n",
    "    preds = []\n",
    "    with torch.no_grad():\n",
    "        for xb, in test_dls:\n",
    "            preds.append(learn.model(xb).cpu())\n",
    "    preds = torch.cat(preds)\n",
    "    predictions = preds.argmax(dim = -1)\n",
    "    return (true_values, predictions)\n",
    "\n",
    "# Using the method above, define a function for computation of accuracy\n",
    "def testAccuracy(x, y):\n",
    "    start = time.time()\n",
    "    true_values, predictions = get_test_fvs(x.cpu(), 0)\n",
    "    return ((true_values == predictions) * 1.0).mean()\n",
    "\n",
    "# Using the method above, define a function for computation of accuracy\n",
    "def testF1Score(x, y):\n",
    "    start = time.time()\n",
    "    true_values, predictions = get_test_fvs(x.cpu(), 0)\n",
    "    return F1Score(average = \"macro\")(true_values, predictions)\n",
    "\n",
    "# Wrap the testset metric functions around AccumMetric\n",
    "test_acc = AccumMetric(testAccuracy, dim_argmax = -1)\n",
    "test_f1 = AccumMetric(testF1Score, dim_argmax = -1)"
   ]
  },
  {
   "cell_type": "markdown",
   "id": "236af0c4",
   "metadata": {},
   "source": [
    "# Poly-Loss"
   ]
  },
  {
   "cell_type": "code",
   "execution_count": 8,
   "id": "26049b0c",
   "metadata": {},
   "outputs": [],
   "source": [
    "class PolyLoss(nn.Module):\n",
    "    \n",
    "    def __init__(self, epsilon = [2], N = 1):\n",
    "        # By default use poly1 loss with epsilon = 2\n",
    "        super().__init__()\n",
    "        self.epsilon = epsilon\n",
    "        self.N = N\n",
    "    \n",
    "    def forward(self, pred_logits, target):\n",
    "        # Get probabilities from logits\n",
    "        probas = pred_logits.softmax(dim = -1)\n",
    "        \n",
    "        # Pick out the probabilities of the actual class\n",
    "        pt = probas[range(pred_logits.shape[0]), target]\n",
    "        \n",
    "        # Compute the plain cross entropy\n",
    "        ce_loss = -1 * pt.log()\n",
    "        \n",
    "        # Compute the contribution of the poly loss\n",
    "        poly_loss = 0\n",
    "        for j in range(self.N, self.N + 1):\n",
    "            poly_loss += self.epsilon[j - 1] * ((1 - pt) ** j) / j\n",
    "        \n",
    "        loss = ce_loss + poly_loss\n",
    "        \n",
    "        return loss.mean()"
   ]
  },
  {
   "cell_type": "code",
   "execution_count": 10,
   "id": "5d1e2a23",
   "metadata": {},
   "outputs": [
    {
     "name": "stdout",
     "output_type": "stream",
     "text": [
      "Train Batches:       63\n",
      "Validation Batches:  64\n"
     ]
    },
    {
     "data": {
      "text/html": [
       "\n",
       "<style>\n",
       "    /* Turns off some styling */\n",
       "    progress {\n",
       "        /* gets rid of default border in Firefox and Opera. */\n",
       "        border: none;\n",
       "        /* Needs to be in here for Safari polyfill so background images work as expected. */\n",
       "        background-size: auto;\n",
       "    }\n",
       "    .progress-bar-interrupted, .progress-bar-interrupted::-webkit-progress-bar {\n",
       "        background: #F44336;\n",
       "    }\n",
       "</style>\n"
      ],
      "text/plain": [
       "<IPython.core.display.HTML object>"
      ]
     },
     "metadata": {},
     "output_type": "display_data"
    },
    {
     "data": {
      "text/html": [],
      "text/plain": [
       "<IPython.core.display.HTML object>"
      ]
     },
     "metadata": {},
     "output_type": "display_data"
    },
    {
     "data": {
      "text/plain": [
       "SuggestedLRs(valley=0.001737800776027143)"
      ]
     },
     "execution_count": 10,
     "metadata": {},
     "output_type": "execute_result"
    },
    {
     "data": {
      "image/png": "[encoded data removed]",
      "text/plain": [
       "<Figure size 432x288 with 1 Axes>"
      ]
     },
     "metadata": {},
     "output_type": "display_data"
    }
   ],
   "source": [
    "dls = get_dls(df)\n",
    "print(f\"Train Batches: {len(dls.train):>8}\", f\"Validation Batches: {len(dls.valid):>3}\", sep = \"\\n\")\n",
    "device = \"cuda\" if torch.cuda.is_available() else \"cpu\"\n",
    "loss = PolyLoss().to(device)\n",
    "learn = vision_learner(dls, resnet50, metrics = [accuracy, F1Score(average=\"macro\"), test_acc, test_f1], loss_func = loss)\n",
    "learn.lr_find()"
   ]
  },
  {
   "cell_type": "code",
   "execution_count": 11,
   "id": "b716d96d",
   "metadata": {},
   "outputs": [
    {
     "data": {
      "text/html": [
       "\n",
       "<style>\n",
       "    /* Turns off some styling */\n",
       "    progress {\n",
       "        /* gets rid of default border in Firefox and Opera. */\n",
       "        border: none;\n",
       "        /* Needs to be in here for Safari polyfill so background images work as expected. */\n",
       "        background-size: auto;\n",
       "    }\n",
       "    .progress-bar-interrupted, .progress-bar-interrupted::-webkit-progress-bar {\n",
       "        background: #F44336;\n",
       "    }\n",
       "</style>\n"
      ],
      "text/plain": [
       "<IPython.core.display.HTML object>"
      ]
     },
     "metadata": {},
     "output_type": "display_data"
    },
    {
     "data": {
      "text/html": [
       "<table border=\"1\" class=\"dataframe\">\n",
       "  <thead>\n",
       "    <tr style=\"text-align: left;\">\n",
       "      <th>epoch</th>\n",
       "      <th>train_loss</th>\n",
       "      <th>valid_loss</th>\n",
       "      <th>accuracy</th>\n",
       "      <th>f1_score</th>\n",
       "      <th>testAccuracy</th>\n",
       "      <th>testF1Score</th>\n",
       "      <th>time</th>\n",
       "    </tr>\n",
       "  </thead>\n",
       "  <tbody>\n",
       "    <tr>\n",
       "      <td>0</td>\n",
       "      <td>7.209084</td>\n",
       "      <td>3.655359</td>\n",
       "      <td>0.498039</td>\n",
       "      <td>0.456425</td>\n",
       "      <td>0.440722</td>\n",
       "      <td>0.401084</td>\n",
       "      <td>00:48</td>\n",
       "    </tr>\n",
       "    <tr>\n",
       "      <td>1</td>\n",
       "      <td>4.382580</td>\n",
       "      <td>1.895744</td>\n",
       "      <td>0.718627</td>\n",
       "      <td>0.703633</td>\n",
       "      <td>0.703692</td>\n",
       "      <td>0.677577</td>\n",
       "      <td>00:46</td>\n",
       "    </tr>\n",
       "    <tr>\n",
       "      <td>2</td>\n",
       "      <td>2.695467</td>\n",
       "      <td>1.285863</td>\n",
       "      <td>0.803922</td>\n",
       "      <td>0.797119</td>\n",
       "      <td>0.785006</td>\n",
       "      <td>0.768215</td>\n",
       "      <td>00:46</td>\n",
       "    </tr>\n",
       "    <tr>\n",
       "      <td>3</td>\n",
       "      <td>1.611618</td>\n",
       "      <td>1.055037</td>\n",
       "      <td>0.847059</td>\n",
       "      <td>0.845694</td>\n",
       "      <td>0.820621</td>\n",
       "      <td>0.806932</td>\n",
       "      <td>00:46</td>\n",
       "    </tr>\n",
       "    <tr>\n",
       "      <td>4</td>\n",
       "      <td>1.130057</td>\n",
       "      <td>0.936282</td>\n",
       "      <td>0.859804</td>\n",
       "      <td>0.857615</td>\n",
       "      <td>0.843227</td>\n",
       "      <td>0.836347</td>\n",
       "      <td>00:46</td>\n",
       "    </tr>\n",
       "    <tr>\n",
       "      <td>5</td>\n",
       "      <td>0.793251</td>\n",
       "      <td>0.905355</td>\n",
       "      <td>0.862745</td>\n",
       "      <td>0.859028</td>\n",
       "      <td>0.857213</td>\n",
       "      <td>0.850194</td>\n",
       "      <td>00:46</td>\n",
       "    </tr>\n",
       "    <tr>\n",
       "      <td>6</td>\n",
       "      <td>0.524094</td>\n",
       "      <td>0.853853</td>\n",
       "      <td>0.880392</td>\n",
       "      <td>0.877968</td>\n",
       "      <td>0.866808</td>\n",
       "      <td>0.857243</td>\n",
       "      <td>00:46</td>\n",
       "    </tr>\n",
       "    <tr>\n",
       "      <td>7</td>\n",
       "      <td>0.442224</td>\n",
       "      <td>0.840035</td>\n",
       "      <td>0.872549</td>\n",
       "      <td>0.869896</td>\n",
       "      <td>0.867296</td>\n",
       "      <td>0.858622</td>\n",
       "      <td>00:46</td>\n",
       "    </tr>\n",
       "  </tbody>\n",
       "</table>"
      ],
      "text/plain": [
       "<IPython.core.display.HTML object>"
      ]
     },
     "metadata": {},
     "output_type": "display_data"
    },
    {
     "name": "stdout",
     "output_type": "stream",
     "text": [
      "Better model found at epoch 0 with valid_loss value: 3.6553592681884766.\n"
     ]
    },
    {
     "data": {
      "image/png": "[encoded data removed]",
      "text/plain": [
       "<Figure size 432x288 with 1 Axes>"
      ]
     },
     "metadata": {},
     "output_type": "display_data"
    },
    {
     "name": "stdout",
     "output_type": "stream",
     "text": [
      "Better model found at epoch 1 with valid_loss value: 1.8957438468933105.\n",
      "Better model found at epoch 2 with valid_loss value: 1.2858632802963257.\n",
      "Better model found at epoch 3 with valid_loss value: 1.055037498474121.\n",
      "Better model found at epoch 4 with valid_loss value: 0.9362823367118835.\n",
      "Better model found at epoch 5 with valid_loss value: 0.9053552150726318.\n",
      "Better model found at epoch 6 with valid_loss value: 0.8538525700569153.\n",
      "Better model found at epoch 7 with valid_loss value: 0.8400352597236633.\n"
     ]
    }
   ],
   "source": [
    "learn.fit_one_cycle(8, lr_max = 1.7e-3, cbs = [WandbCallback(n_preds = 10),\n",
    "                                               SaveModelCallback(fname = \"../models/polyLoss_frozen_model\"), \n",
    "                                               CSVLogger(fname = \"../logs/polyLoss_frozen.csv\"),\n",
    "                                               ShowGraphCallback()])"
   ]
  },
  {
   "cell_type": "code",
   "execution_count": 12,
   "id": "b0ff1db6",
   "metadata": {},
   "outputs": [
    {
     "data": {
      "text/html": [
       "\n",
       "<style>\n",
       "    /* Turns off some styling */\n",
       "    progress {\n",
       "        /* gets rid of default border in Firefox and Opera. */\n",
       "        border: none;\n",
       "        /* Needs to be in here for Safari polyfill so background images work as expected. */\n",
       "        background-size: auto;\n",
       "    }\n",
       "    .progress-bar-interrupted, .progress-bar-interrupted::-webkit-progress-bar {\n",
       "        background: #F44336;\n",
       "    }\n",
       "</style>\n"
      ],
      "text/plain": [
       "<IPython.core.display.HTML object>"
      ]
     },
     "metadata": {},
     "output_type": "display_data"
    },
    {
     "data": {
      "text/html": [],
      "text/plain": [
       "<IPython.core.display.HTML object>"
      ]
     },
     "metadata": {},
     "output_type": "display_data"
    },
    {
     "data": {
      "text/plain": [
       "SuggestedLRs(valley=2.511886486900039e-05)"
      ]
     },
     "execution_count": 12,
     "metadata": {},
     "output_type": "execute_result"
    },
    {
     "data": {
      "image/png": "[encoded data removed]",
      "text/plain": [
       "<Figure size 432x288 with 1 Axes>"
      ]
     },
     "metadata": {},
     "output_type": "display_data"
    }
   ],
   "source": [
    "learn.unfreeze()\n",
    "learn.lr_find()"
   ]
  },
  {
   "cell_type": "code",
   "execution_count": 14,
   "id": "f149a9aa",
   "metadata": {},
   "outputs": [
    {
     "data": {
      "text/html": [
       "\n",
       "<style>\n",
       "    /* Turns off some styling */\n",
       "    progress {\n",
       "        /* gets rid of default border in Firefox and Opera. */\n",
       "        border: none;\n",
       "        /* Needs to be in here for Safari polyfill so background images work as expected. */\n",
       "        background-size: auto;\n",
       "    }\n",
       "    .progress-bar-interrupted, .progress-bar-interrupted::-webkit-progress-bar {\n",
       "        background: #F44336;\n",
       "    }\n",
       "</style>\n"
      ],
      "text/plain": [
       "<IPython.core.display.HTML object>"
      ]
     },
     "metadata": {},
     "output_type": "display_data"
    },
    {
     "data": {
      "text/html": [
       "<table border=\"1\" class=\"dataframe\">\n",
       "  <thead>\n",
       "    <tr style=\"text-align: left;\">\n",
       "      <th>epoch</th>\n",
       "      <th>train_loss</th>\n",
       "      <th>valid_loss</th>\n",
       "      <th>accuracy</th>\n",
       "      <th>f1_score</th>\n",
       "      <th>testAccuracy</th>\n",
       "      <th>testF1Score</th>\n",
       "      <th>time</th>\n",
       "    </tr>\n",
       "  </thead>\n",
       "  <tbody>\n",
       "    <tr>\n",
       "      <td>0</td>\n",
       "      <td>0.392040</td>\n",
       "      <td>0.827210</td>\n",
       "      <td>0.878431</td>\n",
       "      <td>0.876344</td>\n",
       "      <td>0.868271</td>\n",
       "      <td>0.860294</td>\n",
       "      <td>00:48</td>\n",
       "    </tr>\n",
       "    <tr>\n",
       "      <td>1</td>\n",
       "      <td>0.395745</td>\n",
       "      <td>0.807290</td>\n",
       "      <td>0.878431</td>\n",
       "      <td>0.876817</td>\n",
       "      <td>0.873801</td>\n",
       "      <td>0.864730</td>\n",
       "      <td>00:49</td>\n",
       "    </tr>\n",
       "    <tr>\n",
       "      <td>2</td>\n",
       "      <td>0.361759</td>\n",
       "      <td>0.787130</td>\n",
       "      <td>0.886275</td>\n",
       "      <td>0.884144</td>\n",
       "      <td>0.878192</td>\n",
       "      <td>0.869607</td>\n",
       "      <td>00:48</td>\n",
       "    </tr>\n",
       "    <tr>\n",
       "      <td>3</td>\n",
       "      <td>0.322256</td>\n",
       "      <td>0.746058</td>\n",
       "      <td>0.892157</td>\n",
       "      <td>0.891162</td>\n",
       "      <td>0.880306</td>\n",
       "      <td>0.873744</td>\n",
       "      <td>00:48</td>\n",
       "    </tr>\n",
       "    <tr>\n",
       "      <td>4</td>\n",
       "      <td>0.281159</td>\n",
       "      <td>0.726136</td>\n",
       "      <td>0.891176</td>\n",
       "      <td>0.889593</td>\n",
       "      <td>0.886160</td>\n",
       "      <td>0.877980</td>\n",
       "      <td>00:48</td>\n",
       "    </tr>\n",
       "    <tr>\n",
       "      <td>5</td>\n",
       "      <td>0.255891</td>\n",
       "      <td>0.698657</td>\n",
       "      <td>0.893137</td>\n",
       "      <td>0.891568</td>\n",
       "      <td>0.884046</td>\n",
       "      <td>0.874806</td>\n",
       "      <td>00:48</td>\n",
       "    </tr>\n",
       "    <tr>\n",
       "      <td>6</td>\n",
       "      <td>0.224263</td>\n",
       "      <td>0.661774</td>\n",
       "      <td>0.901961</td>\n",
       "      <td>0.900479</td>\n",
       "      <td>0.882745</td>\n",
       "      <td>0.875202</td>\n",
       "      <td>00:48</td>\n",
       "    </tr>\n",
       "    <tr>\n",
       "      <td>7</td>\n",
       "      <td>0.225150</td>\n",
       "      <td>0.652332</td>\n",
       "      <td>0.907843</td>\n",
       "      <td>0.906444</td>\n",
       "      <td>0.889250</td>\n",
       "      <td>0.878727</td>\n",
       "      <td>00:48</td>\n",
       "    </tr>\n",
       "    <tr>\n",
       "      <td>8</td>\n",
       "      <td>0.182797</td>\n",
       "      <td>0.641109</td>\n",
       "      <td>0.906863</td>\n",
       "      <td>0.905757</td>\n",
       "      <td>0.892340</td>\n",
       "      <td>0.883050</td>\n",
       "      <td>00:48</td>\n",
       "    </tr>\n",
       "    <tr>\n",
       "      <td>9</td>\n",
       "      <td>0.134657</td>\n",
       "      <td>0.641541</td>\n",
       "      <td>0.911765</td>\n",
       "      <td>0.910383</td>\n",
       "      <td>0.894942</td>\n",
       "      <td>0.885005</td>\n",
       "      <td>00:48</td>\n",
       "    </tr>\n",
       "    <tr>\n",
       "      <td>10</td>\n",
       "      <td>0.122957</td>\n",
       "      <td>0.632140</td>\n",
       "      <td>0.910784</td>\n",
       "      <td>0.908806</td>\n",
       "      <td>0.895918</td>\n",
       "      <td>0.886821</td>\n",
       "      <td>00:48</td>\n",
       "    </tr>\n",
       "    <tr>\n",
       "      <td>11</td>\n",
       "      <td>0.115979</td>\n",
       "      <td>0.642681</td>\n",
       "      <td>0.903922</td>\n",
       "      <td>0.902463</td>\n",
       "      <td>0.892178</td>\n",
       "      <td>0.882512</td>\n",
       "      <td>00:48</td>\n",
       "    </tr>\n",
       "    <tr>\n",
       "      <td>12</td>\n",
       "      <td>0.100908</td>\n",
       "      <td>0.625817</td>\n",
       "      <td>0.912745</td>\n",
       "      <td>0.911262</td>\n",
       "      <td>0.893804</td>\n",
       "      <td>0.883940</td>\n",
       "      <td>00:48</td>\n",
       "    </tr>\n",
       "    <tr>\n",
       "      <td>13</td>\n",
       "      <td>0.100285</td>\n",
       "      <td>0.623510</td>\n",
       "      <td>0.908824</td>\n",
       "      <td>0.907315</td>\n",
       "      <td>0.894454</td>\n",
       "      <td>0.886661</td>\n",
       "      <td>00:48</td>\n",
       "    </tr>\n",
       "    <tr>\n",
       "      <td>14</td>\n",
       "      <td>0.117505</td>\n",
       "      <td>0.607417</td>\n",
       "      <td>0.909804</td>\n",
       "      <td>0.909401</td>\n",
       "      <td>0.898032</td>\n",
       "      <td>0.887594</td>\n",
       "      <td>00:48</td>\n",
       "    </tr>\n",
       "  </tbody>\n",
       "</table>"
      ],
      "text/plain": [
       "<IPython.core.display.HTML object>"
      ]
     },
     "metadata": {},
     "output_type": "display_data"
    },
    {
     "name": "stdout",
     "output_type": "stream",
     "text": [
      "Better model found at epoch 0 with valid_loss value: 0.8272095918655396.\n"
     ]
    },
    {
     "data": {
      "image/png": "[encoded data removed]",
      "text/plain": [
       "<Figure size 432x288 with 1 Axes>"
      ]
     },
     "metadata": {},
     "output_type": "display_data"
    },
    {
     "name": "stdout",
     "output_type": "stream",
     "text": [
      "Better model found at epoch 1 with valid_loss value: 0.8072901368141174.\n",
      "Better model found at epoch 2 with valid_loss value: 0.7871301770210266.\n",
      "Better model found at epoch 3 with valid_loss value: 0.7460578083992004.\n",
      "Better model found at epoch 4 with valid_loss value: 0.726136326789856.\n",
      "Better model found at epoch 5 with valid_loss value: 0.6986572742462158.\n",
      "Better model found at epoch 6 with valid_loss value: 0.6617744565010071.\n",
      "Better model found at epoch 7 with valid_loss value: 0.6523322463035583.\n",
      "Better model found at epoch 8 with valid_loss value: 0.6411092877388.\n",
      "Better model found at epoch 10 with valid_loss value: 0.6321401596069336.\n",
      "Better model found at epoch 12 with valid_loss value: 0.6258172988891602.\n",
      "Better model found at epoch 13 with valid_loss value: 0.6235100626945496.\n",
      "Better model found at epoch 14 with valid_loss value: 0.6074169874191284.\n"
     ]
    }
   ],
   "source": [
    "learn.fit_one_cycle(15, lr_max = slice(1e-5, 1e-4), cbs = [WandbCallback(n_preds = 10),\n",
    "                                                           SaveModelCallback(fname = \"../models/polyLoss_unfrozen_model\"), \n",
    "                                                           CSVLogger(fname = \"../logs/polyLoss_unfrozen_loss.csv\"),\n",
    "                                                           ShowGraphCallback()])"
   ]
  },
  {
   "cell_type": "code",
   "execution_count": 15,
   "id": "e466c777",
   "metadata": {},
   "outputs": [],
   "source": [
    "learn.export(\"../models/polyLoss_final_model.pkl\")"
   ]
  },
  {
   "cell_type": "code",
   "execution_count": 16,
   "id": "f8f73e03",
   "metadata": {},
   "outputs": [],
   "source": [
    "# Log the frozen and unfrozen runs logs to wandb\n",
    "frozen_logs = pd.read_csv(\"../logs/polyLoss_frozen.csv\")\n",
    "table = wandb.Table(dataframe = frozen_logs)\n",
    "wandb.run.log({\"FrozenPolyLossModelTrainingSummary\": table})\n",
    "\n",
    "unfrozen_logs = pd.read_csv(\"../logs/polyLoss_unfrozen_loss.csv\")\n",
    "table = wandb.Table(dataframe = unfrozen_logs)\n",
    "wandb.run.log({\"UnfrozenPolyLossModelTrainingSummary\": table})"
   ]
  }
 ],
 "metadata": {
  "kernelspec": {
   "display_name": "Python 3 (ipykernel)",
   "language": "python",
   "name": "python3"
  },
  "language_info": {
   "codemirror_mode": {
    "name": "ipython",
    "version": 3
   },
   "file_extension": ".py",
   "mimetype": "text/x-python",
   "name": "python",
   "nbconvert_exporter": "python",
   "pygments_lexer": "ipython3",
   "version": "3.8.12"
  }
 },
 "nbformat": 4,
 "nbformat_minor": 5
}
