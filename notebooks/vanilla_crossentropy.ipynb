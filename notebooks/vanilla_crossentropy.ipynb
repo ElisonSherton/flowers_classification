{
 "cells": [
  {
   "cell_type": "markdown",
   "id": "575b5e64",
   "metadata": {},
   "source": [
    "# Vanilla Cross Entropy Training"
   ]
  },
  {
   "cell_type": "code",
   "execution_count": 1,
   "id": "016c8bf4",
   "metadata": {},
   "outputs": [
    {
     "name": "stdout",
     "output_type": "stream",
     "text": [
      "\u001b[33mWARNING: Running pip as the 'root' user can result in broken permissions and conflicting behaviour with the system package manager. It is recommended to use a virtual environment instead: https://pip.pypa.io/warnings/venv\u001b[0m\n"
     ]
    }
   ],
   "source": [
    "# Install necessary libraries\n",
    "!pip install -q fastai seaborn wandb"
   ]
  },
  {
   "cell_type": "code",
   "execution_count": 2,
   "id": "0b13d197",
   "metadata": {},
   "outputs": [],
   "source": [
    "# Enable autoreload of code from imported files\n",
    "%reload_ext autoreload\n",
    "%autoreload 2"
   ]
  },
  {
   "cell_type": "code",
   "execution_count": 3,
   "id": "48a52ec1",
   "metadata": {},
   "outputs": [],
   "source": [
    "# Get all the necessary imports\n",
    "from fastai.vision.all import *\n",
    "from fastai.callback.wandb import *\n",
    "import wandb, datetime\n",
    "plt.style.use(\"fivethirtyeight\")\n",
    "import seaborn as sns"
   ]
  },
  {
   "cell_type": "code",
   "execution_count": 4,
   "id": "95e90e04",
   "metadata": {},
   "outputs": [
    {
     "name": "stderr",
     "output_type": "stream",
     "text": [
      "\u001b[34m\u001b[1mwandb\u001b[0m: Currently logged in as: \u001b[33mvinayak_nayak\u001b[0m. Use \u001b[1m`wandb login --relogin`\u001b[0m to force relogin\n"
     ]
    },
    {
     "data": {
      "text/html": [
       "Tracking run with wandb version 0.12.16"
      ],
      "text/plain": [
       "<IPython.core.display.HTML object>"
      ]
     },
     "metadata": {},
     "output_type": "display_data"
    },
    {
     "data": {
      "text/html": [
       "Run data is saved locally in <code>/home/flowers_classification/notebooks/wandb/run-20220505_151042-2gj0k0gx</code>"
      ],
      "text/plain": [
       "<IPython.core.display.HTML object>"
      ]
     },
     "metadata": {},
     "output_type": "display_data"
    },
    {
     "data": {
      "text/html": [
       "Syncing run <strong><a href=\"https://wandb.ai/vinayak_nayak/oxford_flowers_classification/runs/2gj0k0gx\" target=\"_blank\">civilized-commander-2</a></strong> to <a href=\"https://wandb.ai/vinayak_nayak/oxford_flowers_classification\" target=\"_blank\">Weights & Biases</a> (<a href=\"https://wandb.me/run\" target=\"_blank\">docs</a>)<br/>"
      ],
      "text/plain": [
       "<IPython.core.display.HTML object>"
      ]
     },
     "metadata": {},
     "output_type": "display_data"
    }
   ],
   "source": [
    "# # Start a new project in wandb\n",
    "wandb.init(project = \"oxford_flowers_classification\")\n",
    "wandb.run.name = \"VanillaCrossEntropy\""
   ]
  },
  {
   "cell_type": "markdown",
   "id": "36e52c8b",
   "metadata": {},
   "source": [
    "# Define Dataloading portion"
   ]
  },
  {
   "cell_type": "code",
   "execution_count": 5,
   "id": "98438554",
   "metadata": {},
   "outputs": [],
   "source": [
    "# Read the data file containing input output pairs and the datapoint class\n",
    "df = pd.read_csv(\"../data/data.csv\")"
   ]
  },
  {
   "cell_type": "code",
   "execution_count": 6,
   "id": "3c03f78a",
   "metadata": {},
   "outputs": [],
   "source": [
    "# Define getter for input ImageBlock\n",
    "def get_x(row): \n",
    "    return f'../data/oxford-102-flowers/{row[\"ImgPath\"]}'\n",
    "\n",
    "# Define getter for output CategoryBlock\n",
    "def get_y(row): \n",
    "    return row[\"ImgLabel\"] \n",
    "\n",
    "# Define trian validation splitter\n",
    "def splitter(df):\n",
    "    train_idxs = df[df.SetType == \"train\"].index.tolist()\n",
    "    valid_idxs = df[df.SetType == \"valid\"].index.tolist()\n",
    "    return (train_idxs, valid_idxs)\n",
    "\n",
    "# Define CPU based item transforms here\n",
    "def get_item_tfms(size):\n",
    "    return Resize(size, pad_mode = PadMode.Zeros, method = ResizeMethod.Pad)()\n",
    "\n",
    "# Define GPU based augmentation transforms here\n",
    "def get_aug_tfms():\n",
    "    proba = 0.3\n",
    "    h = Hue(max_hue = 0.3, p = proba, draw=None, batch=False)\n",
    "    s = Saturation(max_lighting = 0.3, p = proba, draw=None, batch=False)\n",
    "    ag_tfms = aug_transforms(mult = 1.00, do_flip = True, flip_vert = False, max_rotate = 5, \n",
    "                            min_zoom = 0.9, max_zoom = 1.1, max_lighting = 0.5, max_warp = \n",
    "                            0.05, p_affine = proba, p_lighting = proba, xtra_tfms = [h, s], \n",
    "                            size = 224, mode = 'bilinear', pad_mode = \"zeros\", align_corners = True, \n",
    "                            batch = False, min_scale = 0.75)\n",
    "    return ag_tfms\n",
    "\n",
    "# Define a function to retrieve the dataloader\n",
    "# Use the subordinate functions defined above for the same\n",
    "def get_dls(df):\n",
    "    BATCH_SIZE = 16\n",
    "    datablock = DataBlock(blocks = (ImageBlock, CategoryBlock),\n",
    "                          get_x = get_x,\n",
    "                          get_y = get_y,\n",
    "                          splitter = splitter,\n",
    "                          item_tfms = Resize(size = 460),\n",
    "                          batch_tfms = get_aug_tfms())\n",
    "\n",
    "    dls = datablock.dataloaders(source=df, bs = BATCH_SIZE, drop_last = True)\n",
    "    return dls"
   ]
  },
  {
   "cell_type": "markdown",
   "id": "bbfb68c1",
   "metadata": {},
   "source": [
    "# Standard Training with CrossEntropy Loss"
   ]
  },
  {
   "cell_type": "code",
   "execution_count": 7,
   "id": "733122b6",
   "metadata": {},
   "outputs": [],
   "source": [
    "# Define evaluation metrics for test set and add them to the learner so\n",
    "# We can check the progress during every epoch\n",
    "\n",
    "from functools import lru_cache\n",
    "\n",
    "# Define a function to get true values and predictions for test set\n",
    "@lru_cache\n",
    "def get_test_fvs(x, y):\n",
    "    # Input here doesn't matter since we will be receiving validation predictions and ground truth\n",
    "    # But we need to predict on test dataset, so we need to do a forward pass on test images, \n",
    "    # extract those predictions and then get a comparison of the \n",
    "    # Get the test dataset\n",
    "    test_df = df[df.SetType == \"test\"].reset_index(drop = True)\n",
    "    test_dls = learn.dls.test_dl(test_df.ImgPath.apply(lambda x: f\"../data/oxford-102-flowers/{x}\").tolist(), drop_last = False)\n",
    "    true_values = TensorBase([list(dls.vocab).index(x) for x in test_df.ImgLabel.tolist()])\n",
    "    \n",
    "    preds = []\n",
    "    with torch.no_grad():\n",
    "        for xb, in test_dls:\n",
    "            preds.append(learn.model(xb).cpu())\n",
    "    preds = torch.cat(preds)\n",
    "    predictions = preds.argmax(dim = -1)\n",
    "    return (true_values, predictions)\n",
    "\n",
    "# Using the method above, define a function for computation of accuracy\n",
    "def testAccuracy(x, y):\n",
    "    start = time.time()\n",
    "    true_values, predictions = get_test_fvs(x.cpu(), y.cpu())\n",
    "    return ((true_values == predictions) * 1.0).mean()\n",
    "\n",
    "# Using the method above, define a function for computation of accuracy\n",
    "def testF1Score(x, y):\n",
    "    start = time.time()\n",
    "    true_values, predictions = get_test_fvs(x.cpu(), y.cpu())\n",
    "    return F1Score(average = \"macro\")(true_values, predictions)\n",
    "\n",
    "# Wrap the testset metric functions around AccumMetric\n",
    "test_acc = AccumMetric(testAccuracy, dim_argmax = -1)\n",
    "test_f1 = AccumMetric(testF1Score, dim_argmax = -1)"
   ]
  },
  {
   "cell_type": "code",
   "execution_count": 8,
   "id": "81e102c5",
   "metadata": {},
   "outputs": [
    {
     "name": "stdout",
     "output_type": "stream",
     "text": [
      "Train Batches:       63\n",
      "Validation Batches:  64\n"
     ]
    }
   ],
   "source": [
    "dls = get_dls(df)\n",
    "print(f\"Train Batches: {len(dls.train):>8}\", f\"Validation Batches: {len(dls.valid):>3}\", sep = \"\\n\")\n",
    "learn = vision_learner(dls, resnet50, metrics = [accuracy, F1Score(average=\"macro\"), test_acc, test_f1])"
   ]
  },
  {
   "cell_type": "code",
   "execution_count": 9,
   "id": "a0d97c47",
   "metadata": {},
   "outputs": [
    {
     "data": {
      "text/html": [
       "\n",
       "<style>\n",
       "    /* Turns off some styling */\n",
       "    progress {\n",
       "        /* gets rid of default border in Firefox and Opera. */\n",
       "        border: none;\n",
       "        /* Needs to be in here for Safari polyfill so background images work as expected. */\n",
       "        background-size: auto;\n",
       "    }\n",
       "    .progress-bar-interrupted, .progress-bar-interrupted::-webkit-progress-bar {\n",
       "        background: #F44336;\n",
       "    }\n",
       "</style>\n"
      ],
      "text/plain": [
       "<IPython.core.display.HTML object>"
      ]
     },
     "metadata": {},
     "output_type": "display_data"
    },
    {
     "data": {
      "text/html": [],
      "text/plain": [
       "<IPython.core.display.HTML object>"
      ]
     },
     "metadata": {},
     "output_type": "display_data"
    },
    {
     "data": {
      "text/plain": [
       "SuggestedLRs(valley=0.001737800776027143)"
      ]
     },
     "execution_count": 9,
     "metadata": {},
     "output_type": "execute_result"
    },
    {
     "data": {
      "image/png": "[encoded data removed]",
      "text/plain": [
       "<Figure size 432x288 with 1 Axes>"
      ]
     },
     "metadata": {},
     "output_type": "display_data"
    }
   ],
   "source": [
    "learn.lr_find()"
   ]
  },
  {
   "cell_type": "code",
   "execution_count": 10,
   "id": "187d36ab",
   "metadata": {},
   "outputs": [
    {
     "data": {
      "text/html": [
       "\n",
       "<style>\n",
       "    /* Turns off some styling */\n",
       "    progress {\n",
       "        /* gets rid of default border in Firefox and Opera. */\n",
       "        border: none;\n",
       "        /* Needs to be in here for Safari polyfill so background images work as expected. */\n",
       "        background-size: auto;\n",
       "    }\n",
       "    .progress-bar-interrupted, .progress-bar-interrupted::-webkit-progress-bar {\n",
       "        background: #F44336;\n",
       "    }\n",
       "</style>\n"
      ],
      "text/plain": [
       "<IPython.core.display.HTML object>"
      ]
     },
     "metadata": {},
     "output_type": "display_data"
    },
    {
     "data": {
      "text/html": [
       "<table border=\"1\" class=\"dataframe\">\n",
       "  <thead>\n",
       "    <tr style=\"text-align: left;\">\n",
       "      <th>epoch</th>\n",
       "      <th>train_loss</th>\n",
       "      <th>valid_loss</th>\n",
       "      <th>accuracy</th>\n",
       "      <th>f1_score</th>\n",
       "      <th>testAccuracy</th>\n",
       "      <th>testF1Score</th>\n",
       "      <th>time</th>\n",
       "    </tr>\n",
       "  </thead>\n",
       "  <tbody>\n",
       "    <tr>\n",
       "      <td>0</td>\n",
       "      <td>5.545719</td>\n",
       "      <td>2.873401</td>\n",
       "      <td>0.362745</td>\n",
       "      <td>0.327686</td>\n",
       "      <td>0.310294</td>\n",
       "      <td>0.273931</td>\n",
       "      <td>00:47</td>\n",
       "    </tr>\n",
       "    <tr>\n",
       "      <td>1</td>\n",
       "      <td>3.324210</td>\n",
       "      <td>1.180068</td>\n",
       "      <td>0.716667</td>\n",
       "      <td>0.706609</td>\n",
       "      <td>0.683851</td>\n",
       "      <td>0.658431</td>\n",
       "      <td>00:46</td>\n",
       "    </tr>\n",
       "    <tr>\n",
       "      <td>2</td>\n",
       "      <td>1.940944</td>\n",
       "      <td>0.807333</td>\n",
       "      <td>0.809804</td>\n",
       "      <td>0.803683</td>\n",
       "      <td>0.785006</td>\n",
       "      <td>0.769061</td>\n",
       "      <td>00:47</td>\n",
       "    </tr>\n",
       "    <tr>\n",
       "      <td>3</td>\n",
       "      <td>1.219779</td>\n",
       "      <td>0.673838</td>\n",
       "      <td>0.827451</td>\n",
       "      <td>0.824011</td>\n",
       "      <td>0.805659</td>\n",
       "      <td>0.790069</td>\n",
       "      <td>00:47</td>\n",
       "    </tr>\n",
       "    <tr>\n",
       "      <td>4</td>\n",
       "      <td>0.756905</td>\n",
       "      <td>0.564786</td>\n",
       "      <td>0.859804</td>\n",
       "      <td>0.856552</td>\n",
       "      <td>0.838348</td>\n",
       "      <td>0.825356</td>\n",
       "      <td>00:47</td>\n",
       "    </tr>\n",
       "    <tr>\n",
       "      <td>5</td>\n",
       "      <td>0.561811</td>\n",
       "      <td>0.509139</td>\n",
       "      <td>0.874510</td>\n",
       "      <td>0.873743</td>\n",
       "      <td>0.852171</td>\n",
       "      <td>0.842991</td>\n",
       "      <td>00:46</td>\n",
       "    </tr>\n",
       "    <tr>\n",
       "      <td>6</td>\n",
       "      <td>0.400161</td>\n",
       "      <td>0.491945</td>\n",
       "      <td>0.879412</td>\n",
       "      <td>0.878334</td>\n",
       "      <td>0.856725</td>\n",
       "      <td>0.847370</td>\n",
       "      <td>00:47</td>\n",
       "    </tr>\n",
       "    <tr>\n",
       "      <td>7</td>\n",
       "      <td>0.367430</td>\n",
       "      <td>0.489805</td>\n",
       "      <td>0.877451</td>\n",
       "      <td>0.876371</td>\n",
       "      <td>0.856074</td>\n",
       "      <td>0.847760</td>\n",
       "      <td>00:47</td>\n",
       "    </tr>\n",
       "  </tbody>\n",
       "</table>"
      ],
      "text/plain": [
       "<IPython.core.display.HTML object>"
      ]
     },
     "metadata": {},
     "output_type": "display_data"
    },
    {
     "name": "stdout",
     "output_type": "stream",
     "text": [
      "Better model found at epoch 0 with valid_loss value: 2.873401165008545.\n"
     ]
    },
    {
     "data": {
      "image/png": "[encoded data removed]",
      "text/plain": [
       "<Figure size 432x288 with 1 Axes>"
      ]
     },
     "metadata": {},
     "output_type": "display_data"
    },
    {
     "name": "stdout",
     "output_type": "stream",
     "text": [
      "Better model found at epoch 1 with valid_loss value: 1.180068016052246.\n",
      "Better model found at epoch 2 with valid_loss value: 0.8073331117630005.\n",
      "Better model found at epoch 3 with valid_loss value: 0.6738378405570984.\n",
      "Better model found at epoch 4 with valid_loss value: 0.5647860765457153.\n",
      "Better model found at epoch 5 with valid_loss value: 0.5091386437416077.\n",
      "Better model found at epoch 6 with valid_loss value: 0.4919445812702179.\n",
      "Better model found at epoch 7 with valid_loss value: 0.48980486392974854.\n"
     ]
    }
   ],
   "source": [
    "learn.fit_one_cycle(8, lr_max = 1.7e-3, cbs = [WandbCallback(n_preds = 10),\n",
    "                                               SaveModelCallback(fname = \"../models/ce_frozen_model\"), \n",
    "                                               CSVLogger(fname = \"../logs/ce_frozen_loss.csv\"),\n",
    "                                               ShowGraphCallback()])"
   ]
  },
  {
   "cell_type": "code",
   "execution_count": 11,
   "id": "33945505",
   "metadata": {},
   "outputs": [
    {
     "data": {
      "text/html": [
       "\n",
       "<style>\n",
       "    /* Turns off some styling */\n",
       "    progress {\n",
       "        /* gets rid of default border in Firefox and Opera. */\n",
       "        border: none;\n",
       "        /* Needs to be in here for Safari polyfill so background images work as expected. */\n",
       "        background-size: auto;\n",
       "    }\n",
       "    .progress-bar-interrupted, .progress-bar-interrupted::-webkit-progress-bar {\n",
       "        background: #F44336;\n",
       "    }\n",
       "</style>\n"
      ],
      "text/plain": [
       "<IPython.core.display.HTML object>"
      ]
     },
     "metadata": {},
     "output_type": "display_data"
    },
    {
     "data": {
      "text/html": [],
      "text/plain": [
       "<IPython.core.display.HTML object>"
      ]
     },
     "metadata": {},
     "output_type": "display_data"
    },
    {
     "data": {
      "text/plain": [
       "SuggestedLRs(valley=0.00010964782268274575)"
      ]
     },
     "execution_count": 11,
     "metadata": {},
     "output_type": "execute_result"
    },
    {
     "data": {
      "image/png": "[encoded data removed]",
      "text/plain": [
       "<Figure size 432x288 with 1 Axes>"
      ]
     },
     "metadata": {},
     "output_type": "display_data"
    }
   ],
   "source": [
    "learn.unfreeze()\n",
    "learn.lr_find()"
   ]
  },
  {
   "cell_type": "code",
   "execution_count": 13,
   "id": "82173945",
   "metadata": {},
   "outputs": [
    {
     "data": {
      "text/html": [
       "\n",
       "<style>\n",
       "    /* Turns off some styling */\n",
       "    progress {\n",
       "        /* gets rid of default border in Firefox and Opera. */\n",
       "        border: none;\n",
       "        /* Needs to be in here for Safari polyfill so background images work as expected. */\n",
       "        background-size: auto;\n",
       "    }\n",
       "    .progress-bar-interrupted, .progress-bar-interrupted::-webkit-progress-bar {\n",
       "        background: #F44336;\n",
       "    }\n",
       "</style>\n"
      ],
      "text/plain": [
       "<IPython.core.display.HTML object>"
      ]
     },
     "metadata": {},
     "output_type": "display_data"
    },
    {
     "data": {
      "text/html": [
       "<table border=\"1\" class=\"dataframe\">\n",
       "  <thead>\n",
       "    <tr style=\"text-align: left;\">\n",
       "      <th>epoch</th>\n",
       "      <th>train_loss</th>\n",
       "      <th>valid_loss</th>\n",
       "      <th>accuracy</th>\n",
       "      <th>f1_score</th>\n",
       "      <th>testAccuracy</th>\n",
       "      <th>testF1Score</th>\n",
       "      <th>time</th>\n",
       "    </tr>\n",
       "  </thead>\n",
       "  <tbody>\n",
       "    <tr>\n",
       "      <td>0</td>\n",
       "      <td>0.358684</td>\n",
       "      <td>0.470372</td>\n",
       "      <td>0.880392</td>\n",
       "      <td>0.877894</td>\n",
       "      <td>0.861603</td>\n",
       "      <td>0.852652</td>\n",
       "      <td>00:48</td>\n",
       "    </tr>\n",
       "    <tr>\n",
       "      <td>1</td>\n",
       "      <td>0.335384</td>\n",
       "      <td>0.466116</td>\n",
       "      <td>0.877451</td>\n",
       "      <td>0.875029</td>\n",
       "      <td>0.859652</td>\n",
       "      <td>0.847122</td>\n",
       "      <td>00:49</td>\n",
       "    </tr>\n",
       "    <tr>\n",
       "      <td>2</td>\n",
       "      <td>0.355423</td>\n",
       "      <td>0.565953</td>\n",
       "      <td>0.861765</td>\n",
       "      <td>0.858792</td>\n",
       "      <td>0.828265</td>\n",
       "      <td>0.817404</td>\n",
       "      <td>00:49</td>\n",
       "    </tr>\n",
       "    <tr>\n",
       "      <td>3</td>\n",
       "      <td>0.433215</td>\n",
       "      <td>0.614693</td>\n",
       "      <td>0.837255</td>\n",
       "      <td>0.836082</td>\n",
       "      <td>0.814441</td>\n",
       "      <td>0.805639</td>\n",
       "      <td>00:49</td>\n",
       "    </tr>\n",
       "    <tr>\n",
       "      <td>4</td>\n",
       "      <td>0.428848</td>\n",
       "      <td>0.554012</td>\n",
       "      <td>0.855882</td>\n",
       "      <td>0.849055</td>\n",
       "      <td>0.823223</td>\n",
       "      <td>0.807300</td>\n",
       "      <td>00:49</td>\n",
       "    </tr>\n",
       "    <tr>\n",
       "      <td>5</td>\n",
       "      <td>0.335170</td>\n",
       "      <td>0.464123</td>\n",
       "      <td>0.877451</td>\n",
       "      <td>0.875518</td>\n",
       "      <td>0.856399</td>\n",
       "      <td>0.843278</td>\n",
       "      <td>00:49</td>\n",
       "    </tr>\n",
       "    <tr>\n",
       "      <td>6</td>\n",
       "      <td>0.266084</td>\n",
       "      <td>0.413980</td>\n",
       "      <td>0.890196</td>\n",
       "      <td>0.889397</td>\n",
       "      <td>0.874288</td>\n",
       "      <td>0.868417</td>\n",
       "      <td>00:49</td>\n",
       "    </tr>\n",
       "    <tr>\n",
       "      <td>7</td>\n",
       "      <td>0.224526</td>\n",
       "      <td>0.371688</td>\n",
       "      <td>0.903922</td>\n",
       "      <td>0.904826</td>\n",
       "      <td>0.874614</td>\n",
       "      <td>0.869759</td>\n",
       "      <td>00:49</td>\n",
       "    </tr>\n",
       "    <tr>\n",
       "      <td>8</td>\n",
       "      <td>0.142187</td>\n",
       "      <td>0.354044</td>\n",
       "      <td>0.908824</td>\n",
       "      <td>0.908141</td>\n",
       "      <td>0.874451</td>\n",
       "      <td>0.870705</td>\n",
       "      <td>00:49</td>\n",
       "    </tr>\n",
       "    <tr>\n",
       "      <td>9</td>\n",
       "      <td>0.112743</td>\n",
       "      <td>0.342424</td>\n",
       "      <td>0.908824</td>\n",
       "      <td>0.908186</td>\n",
       "      <td>0.887136</td>\n",
       "      <td>0.880045</td>\n",
       "      <td>00:49</td>\n",
       "    </tr>\n",
       "    <tr>\n",
       "      <td>10</td>\n",
       "      <td>0.092782</td>\n",
       "      <td>0.310063</td>\n",
       "      <td>0.924510</td>\n",
       "      <td>0.923852</td>\n",
       "      <td>0.898520</td>\n",
       "      <td>0.891250</td>\n",
       "      <td>00:49</td>\n",
       "    </tr>\n",
       "    <tr>\n",
       "      <td>11</td>\n",
       "      <td>0.073930</td>\n",
       "      <td>0.290962</td>\n",
       "      <td>0.915686</td>\n",
       "      <td>0.914650</td>\n",
       "      <td>0.902911</td>\n",
       "      <td>0.898262</td>\n",
       "      <td>00:49</td>\n",
       "    </tr>\n",
       "    <tr>\n",
       "      <td>12</td>\n",
       "      <td>0.057845</td>\n",
       "      <td>0.283552</td>\n",
       "      <td>0.922549</td>\n",
       "      <td>0.922022</td>\n",
       "      <td>0.899659</td>\n",
       "      <td>0.897159</td>\n",
       "      <td>00:48</td>\n",
       "    </tr>\n",
       "    <tr>\n",
       "      <td>13</td>\n",
       "      <td>0.044425</td>\n",
       "      <td>0.286346</td>\n",
       "      <td>0.921569</td>\n",
       "      <td>0.921105</td>\n",
       "      <td>0.900309</td>\n",
       "      <td>0.896715</td>\n",
       "      <td>00:49</td>\n",
       "    </tr>\n",
       "    <tr>\n",
       "      <td>14</td>\n",
       "      <td>0.046248</td>\n",
       "      <td>0.285473</td>\n",
       "      <td>0.926471</td>\n",
       "      <td>0.925815</td>\n",
       "      <td>0.899496</td>\n",
       "      <td>0.897889</td>\n",
       "      <td>00:49</td>\n",
       "    </tr>\n",
       "  </tbody>\n",
       "</table>"
      ],
      "text/plain": [
       "<IPython.core.display.HTML object>"
      ]
     },
     "metadata": {},
     "output_type": "display_data"
    },
    {
     "name": "stdout",
     "output_type": "stream",
     "text": [
      "Better model found at epoch 0 with valid_loss value: 0.47037196159362793.\n"
     ]
    },
    {
     "data": {
      "image/png": "[encoded data removed]",
      "text/plain": [
       "<Figure size 432x288 with 1 Axes>"
      ]
     },
     "metadata": {},
     "output_type": "display_data"
    },
    {
     "name": "stdout",
     "output_type": "stream",
     "text": [
      "Better model found at epoch 1 with valid_loss value: 0.46611645817756653.\n",
      "Better model found at epoch 5 with valid_loss value: 0.4641228914260864.\n",
      "Better model found at epoch 6 with valid_loss value: 0.41397976875305176.\n",
      "Better model found at epoch 7 with valid_loss value: 0.3716879189014435.\n",
      "Better model found at epoch 8 with valid_loss value: 0.3540436923503876.\n",
      "Better model found at epoch 9 with valid_loss value: 0.3424241542816162.\n",
      "Better model found at epoch 10 with valid_loss value: 0.31006309390068054.\n",
      "Better model found at epoch 11 with valid_loss value: 0.2909619212150574.\n",
      "Better model found at epoch 12 with valid_loss value: 0.28355222940444946.\n"
     ]
    }
   ],
   "source": [
    "learn.fit_one_cycle(15, lr_max = slice(5e-5, 3e-4), cbs = [WandbCallback(n_preds = 10),\n",
    "                                                           SaveModelCallback(fname = \"../models/ce_unfrozen_model\"), \n",
    "                                                           CSVLogger(fname = \"../logs/ce_unfrozen_loss.csv\"),\n",
    "                                                           ShowGraphCallback()])"
   ]
  },
  {
   "cell_type": "code",
   "execution_count": 14,
   "id": "7908536c",
   "metadata": {},
   "outputs": [],
   "source": [
    "learn.export(\"../models/ce_final_model.pkl\")"
   ]
  },
  {
   "cell_type": "code",
   "execution_count": 15,
   "id": "8b7b8783",
   "metadata": {},
   "outputs": [],
   "source": [
    "# Log the frozen and unfrozen runs logs to wandb\n",
    "frozen_logs = pd.read_csv(\"../logs/ce_frozen_loss.csv\")\n",
    "table = wandb.Table(dataframe = frozen_logs)\n",
    "wandb.run.log({\"FrozenModelTrainingSummary\": table})\n",
    "\n",
    "unfrozen_logs = pd.read_csv(\"../logs/ce_unfrozen_loss.csv\")\n",
    "table = wandb.Table(dataframe = unfrozen_logs)\n",
    "wandb.run.log({\"UnfrozenModelTrainingSummary\": table})"
   ]
  }
 ],
 "metadata": {
  "kernelspec": {
   "display_name": "Python 3 (ipykernel)",
   "language": "python",
   "name": "python3"
  },
  "language_info": {
   "codemirror_mode": {
    "name": "ipython",
    "version": 3
   },
   "file_extension": ".py",
   "mimetype": "text/x-python",
   "name": "python",
   "nbconvert_exporter": "python",
   "pygments_lexer": "ipython3",
   "version": "3.8.12"
  }
 },
 "nbformat": 4,
 "nbformat_minor": 5
}
